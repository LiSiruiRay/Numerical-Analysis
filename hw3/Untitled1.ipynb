{
 "cells": [
  {
   "cell_type": "markdown",
   "id": "95add913-f199-47f6-84bb-9a44b0ee7782",
   "metadata": {},
   "source": [
    "we get\n",
    "\n",
    "\\begin{align}\n",
    "f(x-h) &=f( x + \\frac{h}{2}) +\\frac{3h}{2}f'( x + \\frac{h}{2}) +\\frac{(\\frac{3h}{2})^2}{2!}f''( x + \\frac{h}{2}) +\\frac{(\\frac{3h}{2})^{3}}{3!}f^{( 3) }( x + \\frac{h}{2}) +\\frac{(\\frac{3h}{2})^{4}}{4!}f^{( 4) }( x + \\frac{h}{2})+\\frac{(\\frac{3h}{2})^{5}}{5!}f^{( 5) }( c_1)\n",
    "\\\\\n",
    "f(x) &= f( x + \\frac{h}{2}) +\\frac{h}{2}f'( x + \\frac{h}{2}) +\\frac{(\\frac{h}{2})^2}{2!}f''( x + \\frac{h}{2}) +\\frac{(\\frac{h}{2})^{3}}{3!}f^{( 3) }( x + \\frac{h}{2}) +\\frac{(\\frac{h}{2})^{4}}{4!}f^{( 4) }( x + \\frac{h}{2}) +\\frac{(\\frac{h}{2})^{5}}{5!}f^{( 5) }( c_2)\n",
    "\\\\\n",
    "f(x+\\frac{1}{2}h) &=f( x+\\frac{1}{2}h) \n",
    "\\\\\n",
    "f(x+h) &=f( x + \\frac{h}{2}) -\\frac{h}{2}f'( x + \\frac{h}{2}) +\\frac{(\\frac{h}{2})^2}{2!}f''( x + \\frac{h}{2}) -\\frac{(\\frac{h}{2})^{3}}{3!}f^{( 3) }( x + \\frac{h}{2}) +\\frac{(\\frac{h}{2})^{4}}{4!}f^{( 4) }( x + \\frac{h}{2}) - \\frac{(\\frac{h}{2})^{5}}{5!}f^{( 5) }( c_3)\n",
    "\\\\\n",
    "f( x+2h) &=f( x + \\frac{h}{2}) -\\frac{3h}{2}f'( x + \\frac{h}{2}) +\\frac{(\\frac{3h}{2})^2}{2!}f''( x + \\frac{h}{2}) -\\frac{(\\frac{3h}{2})^{3}}{3!}f^{( 3) }( x + \\frac{h}{2}) +\\frac{(\\frac{3h}{2})^{4}}{4!}f^{( 4) }( x + \\frac{h}{2}) - \\frac{(\\frac{3h}{2})^{5}}{5!}f^{( 5) }(c_4)\n",
    "\\\\\n",
    "\\end{align}"
   ]
  },
  {
   "cell_type": "markdown",
   "id": "9ebb569d-2579-4043-abe1-b0965cba9806",
   "metadata": {},
   "source": [
    "Let's also expand $f(x)$, $f(x + h)$, $f(x - h)$, $f(x + 2h)$,\n",
    "we got\n",
    "\n",
    "\\begin{align*}\n",
    "f( x-h) &=f( x) -hf'( x) +\\frac{h^{2}}{2!}f''( x) -\\frac{h^{3}}{3!}f^{( 3) }( x) +\\frac{h^{4}}{4!}f^{( 4) }( x)-\\frac{h^{5}}{5!}f^{( 5) }( c_1) \\\\\n",
    "f(x) &= f(x) \\\\\n",
    "f( x+h) &=f( x) +hf'( x) +\\frac{h^{2}}{2!}f''( x) +\\frac{h^{3}}{3!}f^{( 3) }( x) +\\frac{h^{4}}{4!}f^{( 4) }( x) +\\frac{h^{5}}{5!}f^{( 5) }( c_2)\\\\\n",
    "f( x+2h) &=f( x) +2hf'( x) +\\frac{(2h)^{2}}{2!}f''( x) +\\frac{(2h)^{3}}{3!}f^{( 3) }( x) +\\frac{(2h)^{4}}{4!}f^{( 4) }( x)+\\frac{(2h)^{5}}{5!}f^{( 5) }( c_3) \\\\\n",
    "\\end{align*}\n",
    "\n"
   ]
  },
  {
   "cell_type": "markdown",
   "id": "9f9c60d6-09ee-45e3-bbf5-25576e1d0cf8",
   "metadata": {},
   "source": [
    "\\begin{align*}\n",
    "f( x-h) &=f( x) -hf'( x) +\\frac{h^{2}}{2!}f''( x) -\\frac{h^{3}}{3!}f^{( 3) }( x) +\\frac{h^{4}}{4!}f^{( 4) }( c_3) \\\\\n",
    "f(x) &= f(x) \\\\\n",
    "f( x+h) &=f( x) +hf'( x) +\\frac{h^{2}}{2!}f''( x) +\\frac{h^{3}}{3!}f^{( 3) }( x) +\\frac{h^{4}}{4!}f^{( 4) }( c_2) \\\\\n",
    "f( x+2h) &=f( x) +2hf'( x) +\\frac{(2h)^{2}}{2!}f''( x) +\\frac{(2h)^{3}}{3!}f^{( 3) }( x) +\\frac{(2h)^{4}}{4!}f^{( 4) }( c_4) \\\\\n",
    "\\end{align*}\n"
   ]
  },
  {
   "cell_type": "markdown",
   "id": "5d239c4a-4050-4e36-bee0-392cf0e30927",
   "metadata": {},
   "source": [
    "we get\n",
    "\n",
    "\\begin{align}\n",
    "f(x-h) &=f( x + \\frac{h}{2}) +\\frac{3h}{2}f'( x + \\frac{h}{2}) +\\frac{(\\frac{3h}{2})^2}{2!}f''( x + \\frac{h}{2}) +\\frac{(\\frac{3h}{2})^{3}}{3!}f^{( 3) }( x + \\frac{h}{2}) +\\frac{(\\frac{3h}{2})^{4}}{4!}f^{( 4) }( c_1)\n",
    "\\\\\n",
    "f(x) &= f( x + \\frac{h}{2}) +\\frac{h}{2}f'( x + \\frac{h}{2}) +\\frac{(\\frac{h}{2})^2}{2!}f''( x + \\frac{h}{2}) +\\frac{(\\frac{h}{2})^{3}}{3!}f^{( 3) }( x + \\frac{h}{2}) +\\frac{(\\frac{h}{2})^{4}}{4!}f^{( 4) }( c_2) \n",
    "\\\\\n",
    "f(x+\\frac{1}{2}h) &=f( x+\\frac{1}{2}h) \n",
    "\\\\\n",
    "f(x+h) &=f( x + \\frac{h}{2}) -\\frac{h}{2}f'( x + \\frac{h}{2}) +\\frac{(\\frac{h}{2})^2}{2!}f''( x + \\frac{h}{2}) -\\frac{(\\frac{h}{2})^{3}}{3!}f^{( 3) }( x + \\frac{h}{2}) +\\frac{(\\frac{h}{2})^{4}}{4!}f^{( 4) }( c_3)\n",
    "\\\\\n",
    "f( x+2h) &=f( x + \\frac{h}{2}) -\\frac{3h}{2}f'( x + \\frac{h}{2}) +\\frac{(\\frac{3h}{2})^2}{2!}f''( x + \\frac{h}{2}) -\\frac{(\\frac{3h}{2})^{3}}{3!}f^{( 3) }( x + \\frac{h}{2}) +\\frac{(\\frac{3h}{2})^{4}}{4!}f^{( 4) }( c_4)  \n",
    "\\\\\n",
    "\\end{align}"
   ]
  },
  {
   "cell_type": "markdown",
   "id": "992aad7a-0dee-4180-8f38-86118d546b1f",
   "metadata": {},
   "source": [
    "Since we want the third derivative, we do the following:\n",
    "\\begin{align}\n",
    "f(x-h) - f( x+2h)&= 2 \\cdot \\frac{3h}{2}f'( x + \\frac{h}{2}) + 2 \\cdot\\frac{(\\frac{3h}{2})^{3}}{3!}f^{( 3) }( x + \\frac{h}{2}) +\\frac{(\\frac{3h}{2})^{4}}{4!}f^{( 4) }( c_1) - \\frac{(\\frac{3h}{2})^{4}}{4!}f^{( 4) }( c_4)  \n",
    "\\\\\n",
    "&= 3hf'( x + \\frac{h}{2}) + \\frac{(\\frac{3h}{2})^{3}}{3}f^{( 3) }( x + \\frac{h}{2}) +\\frac{(\\frac{3h}{2})^{4}}{4!}f^{( 4) }( c_1) - \\frac{(\\frac{3h}{2})^{4}}{4!}f^{( 4) }( c_4)  \n",
    "\\\\\n",
    "f(x) - f(x+h) &= 2 \\cdot \\frac{h}{2}f'( x + \\frac{h}{2}) +2 \\cdot \\frac{(\\frac{h}{2})^{3}}{3!}f^{( 3) }( x + \\frac{h}{2}) +\\frac{(\\frac{h}{2})^{4}}{4!}f^{( 4) }( c_2) - \\frac{(\\frac{h}{2})^{4}}{4!}f^{( 4) }( c_3)\n",
    "\\\\\n",
    "&= hf'( x + \\frac{h}{2}) +\\frac{(\\frac{h}{2})^{3}}{3}f^{( 3) }( x + \\frac{h}{2}) +\\frac{(\\frac{h}{2})^{4}}{4!}f^{( 4) }( c_2) - \\frac{(\\frac{h}{2})^{4}}{4!}f^{( 4) }( c_3)\n",
    "\\\\\n",
    "f(x+\\frac{1}{2}h) &=f( x+\\frac{1}{2}h) \n",
    "\\\\\n",
    "\\end{align}"
   ]
  },
  {
   "cell_type": "markdown",
   "id": "2f8815b2-6fa8-41e8-a534-8dd7dd1ba6af",
   "metadata": {},
   "source": [
    "We get\n",
    "Thus,\n",
    "\\begin{align}\n",
    "f(x-h) - f( x+2h) - 3(f(x) - f(x+h)) \n",
    "=(\\dfrac{9h^{3}}{2} - \\frac{h^3}{2})^{3})f^{( 3) }( x + \\frac{h}{2}) - (\\frac{h}{2})^{3}f^{( 3) }( x + \\frac{h}{2})+\\frac{(\\frac{3h}{2})^{4}}{4!}f^{( 4) }( c_1) - \\frac{(\\frac{3h}{2})^{4}}{4!}f^{( 4) }( c_4) - 3\\frac{(\\frac{h}{2})^{3}}{3}f^{( 3) }( x + \\frac{h}{2}) +3 (\\frac{(\\frac{h}{2})^{4}}{4!}f^{( 4) }( c_2) - \\frac{(\\frac{h}{2})^{4}}{4!}f^{( 4) }( c_3))\n",
    "\\\\\n",
    "\\end{align}"
   ]
  },
  {
   "cell_type": "markdown",
   "id": "c6ecfdbb-12f9-4873-8866-995f17ef1ac2",
   "metadata": {},
   "source": [
    "We further multiply both side:\n",
    "\\begin{align}\n",
    "f(x-h) - f( x+2h) &= 3hf'( x + \\frac{h}{2}) + \\frac{(\\frac{3h}{2})^{3}}{3}f^{( 3) }( x + \\frac{h}{2}) +\\frac{(\\frac{3h}{2})^{4}}{4!}f^{( 4) }( c_1) - \\frac{(\\frac{3h}{2})^{4}}{4!}f^{( 4) }( c_4)  \n",
    "\\\\\n",
    "3(f(x) - f(x+h)) &= 3hf'( x + \\frac{h}{2}) +(\\frac{h}{2})^{3}f^{( 3) }( x + \\frac{h}{2}) +3 (\\frac{(\\frac{h}{2})^{4}}{4!}f^{( 4) }( c_2) - \\frac{(\\frac{h}{2})^{4}}{4!}f^{( 4) }( c_3))\n",
    "\\\\\n",
    "\\end{align}"
   ]
  },
  {
   "cell_type": "markdown",
   "id": "48cd9c6b-d7a3-4e59-901f-bd0a7fd41728",
   "metadata": {},
   "source": [
    "Thus,\n",
    "\\begin{align}\n",
    "f(x-h) - f( x+2h) - 3(f(x) - f(x+h)) \n",
    "=\\frac{(\\frac{3h}{2})^{3}}{3}f^{( 3) }( x + \\frac{h}{2}) - (\\frac{h}{2})^{3}f^{( 3) }( x + \\frac{h}{2})+\\frac{(\\frac{3h}{2})^{4}}{4!}f^{( 4) }( c_1) - \\frac{(\\frac{3h}{2})^{4}}{4!}f^{( 4) }( c_4) - 3\\frac{(\\frac{h}{2})^{3}}{3}f^{( 3) }( x + \\frac{h}{2}) +3 (\\frac{(\\frac{h}{2})^{4}}{4!}f^{( 4) }( c_2) - \\frac{(\\frac{h}{2})^{4}}{4!}f^{( 4) }( c_3))\n",
    "\\\\\n",
    "\\end{align}"
   ]
  },
  {
   "cell_type": "markdown",
   "id": "91151564-16df-477c-83a0-6a75d4d59ce1",
   "metadata": {},
   "source": [
    "\n",
    "Thus,\n",
    "\\begin{align}\n",
    "f(x-h) - f( x+2h) - 3(f(x) - f(x+h)) \n",
    "=(\\dfrac{9h^{3}}{2} - \\frac{h^3}{2})^{3})f^{( 3) }( x + \\frac{h}{2}) - (\\frac{h}{2})^{3}f^{( 3) }( x + \\frac{h}{2})+\\frac{(\\frac{3h}{2})^{4}}{4!}f^{( 4) }( c_1) - \\frac{(\\frac{3h}{2})^{4}}{4!}f^{( 4) }( c_4) - 3\\frac{(\\frac{h}{2})^{3}}{3}f^{( 3) }( x + \\frac{h}{2}) +3 (\\frac{(\\frac{h}{2})^{4}}{4!}f^{( 4) }( c_2) - \\frac{(\\frac{h}{2})^{4}}{4!}f^{( 4) }( c_3))\n",
    "\\\\\n",
    "\\end{align}"
   ]
  },
  {
   "cell_type": "markdown",
   "id": "795bc70c-b6bf-4821-b8bb-35cb4e3f8153",
   "metadata": {},
   "source": [
    "Let's typlor expand $f(x + \\frac{h}{2})$, we got\n",
    "\n",
    "\\begin{align}\n",
    "f(x+\\frac{1}{2}h) =f(x) +\\frac{1}{2}hf'(x) +\\frac{h^{2}}{2^{2}2!}f''(x) +\\frac{h^{3}}{2^{3}3!}f^{(3)}(x) +\\frac{h^{4}}{2^{4}4!}f^{(4)}(c) \n",
    "\\end{align}\n",
    "\n",
    "where $c \\in (x, x + \\frac{h}{2})$"
   ]
  },
  {
   "cell_type": "code",
   "execution_count": null,
   "id": "937346d6-4aca-4e87-8aac-db081715a338",
   "metadata": {},
   "outputs": [],
   "source": []
  }
 ],
 "metadata": {
  "kernelspec": {
   "display_name": "Python 3 (ipykernel)",
   "language": "python",
   "name": "python3"
  },
  "language_info": {
   "codemirror_mode": {
    "name": "ipython",
    "version": 3
   },
   "file_extension": ".py",
   "mimetype": "text/x-python",
   "name": "python",
   "nbconvert_exporter": "python",
   "pygments_lexer": "ipython3",
   "version": "3.9.13"
  }
 },
 "nbformat": 4,
 "nbformat_minor": 5
}

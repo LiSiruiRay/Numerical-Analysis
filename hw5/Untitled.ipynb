{
 "cells": [
  {
   "cell_type": "code",
   "execution_count": 3,
   "id": "cb1d0e18-23d7-4387-8495-71c374bc1fa8",
   "metadata": {},
   "outputs": [
    {
     "name": "stdout",
     "output_type": "stream",
     "text": [
      "Original Matrix:\n",
      "[[1 2 3]\n",
      " [4 5 6]\n",
      " [7 8 9]]\n",
      "\n",
      "Matrix After Swapping Rows:\n",
      "[[4 5 6]\n",
      " [1 2 3]\n",
      " [7 8 9]]\n"
     ]
    }
   ],
   "source": [
    "import numpy as np\n",
    "\n",
    "# Create a sample matrix\n",
    "matrix = np.array([[1, 2, 3], [4, 5, 6], [7, 8, 9]])\n",
    "\n",
    "# Print original matrix\n",
    "print(\"Original Matrix:\")\n",
    "print(matrix)\n",
    "\n",
    "# Indices of rows you want to swap\n",
    "row1, row2 = 0, 1  # For example, swapping the first and second rows\n",
    "\n",
    "# Swapping rows\n",
    "matrix[[row1, row2]] = matrix[[row2, row1]]\n",
    "\n",
    "# Print modified matrix\n",
    "print(\"\\nMatrix After Swapping Rows:\")\n",
    "print(matrix)"
   ]
  },
  {
   "cell_type": "code",
   "execution_count": 13,
   "id": "4d4763f7-5c00-4425-83d2-7087e9f73fa7",
   "metadata": {},
   "outputs": [
    {
     "name": "stdout",
     "output_type": "stream",
     "text": [
      "Absolute maximum value in column 1: 100\n",
      "Index of the absolute maximum value (row number): 1\n"
     ]
    }
   ],
   "source": [
    "import numpy as np\n",
    "\n",
    "# Create a sample matrix with both positive and negative values\n",
    "matrix = np.array([[1, -7, 3], [4, -100, -6], [-7, 2, 9]])\n",
    "\n",
    "# Column index from which to find the absolute max value\n",
    "column_index = 1  # for example, the second column\n",
    "\n",
    "# Access the column\n",
    "column = matrix[:, column_index]\n",
    "\n",
    "# Apply absolute value\n",
    "abs_column = np.abs(column)\n",
    "\n",
    "# Find the maximum value in the absolute values of the column\n",
    "abs_max_value = np.max(abs_column)\n",
    "\n",
    "# Find the index (row number) of the maximum value in the absolute values of the column\n",
    "abs_max_index = np.argmax(abs_column)\n",
    "\n",
    "print(f\"Absolute maximum value in column {column_index}: {abs_max_value}\")\n",
    "print(f\"Index of the absolute maximum value (row number): {abs_max_index}\")\n"
   ]
  },
  {
   "cell_type": "code",
   "execution_count": 14,
   "id": "4f86594b-e77c-4e00-b31d-5b263fd8392e",
   "metadata": {},
   "outputs": [],
   "source": [
    "def get_abs_max(column_index: int, matrix: np.array):\n",
    "    column = matrix[:, column_index]\n",
    "    abs_column = np.abs(column)\n",
    "    abs_max_value = np.max(abs_column)\n",
    "    abs_max_index = np.argmax(abs_column)\n",
    "    return (abs_max_value, abs_max_index)"
   ]
  },
  {
   "cell_type": "code",
   "execution_count": 16,
   "id": "28d22241-fdfe-4177-9cc6-97b6c2ed1920",
   "metadata": {},
   "outputs": [],
   "source": [
    "matrix = np.array([[1, -7, 3], [4, -100, -6], [-7, 2, 9]])\n",
    "column_index = 1\n",
    "result = get_abs_max(column_index = column_index, matrix=matrix)"
   ]
  },
  {
   "cell_type": "code",
   "execution_count": 17,
   "id": "83ba2e3b-3820-482b-b56d-1e0aac16325d",
   "metadata": {},
   "outputs": [
    {
     "name": "stdout",
     "output_type": "stream",
     "text": [
      "max: 100, index: 1\n"
     ]
    }
   ],
   "source": [
    "print(f\"max: {result[0]}, index: {result[1]}\")"
   ]
  },
  {
   "cell_type": "code",
   "execution_count": 22,
   "id": "44608865-254c-47a7-a3ab-1682d948c73c",
   "metadata": {},
   "outputs": [
    {
     "name": "stdout",
     "output_type": "stream",
     "text": [
      "Original Matrix:\n",
      "[[1 2 3]\n",
      " [4 5 6]\n",
      " [7 8 9]]\n",
      "\n",
      "Lower Triangular Part:\n",
      "[[1 0 0]\n",
      " [4 5 0]\n",
      " [7 8 9]]\n"
     ]
    }
   ],
   "source": [
    "import numpy as np\n",
    "\n",
    "# Create a sample matrix\n",
    "matrix = np.array([[1, 2, 3], [4, 5, 6], [7, 8, 9]])\n",
    "\n",
    "# Use np.tril() to get the lower triangular part of the matrix\n",
    "lower_triangle_matrix = np.tril(matrix)\n",
    "\n",
    "print(\"Original Matrix:\")\n",
    "print(matrix)\n",
    "print(\"\\nLower Triangular Part:\")\n",
    "print(lower_triangle_matrix)\n"
   ]
  },
  {
   "cell_type": "code",
   "execution_count": 27,
   "id": "8f3feb7a-a073-4be9-8c04-c12af0127865",
   "metadata": {},
   "outputs": [
    {
     "data": {
      "text/plain": [
       "(3, 3)"
      ]
     },
     "execution_count": 27,
     "metadata": {},
     "output_type": "execute_result"
    }
   ],
   "source": [
    "matrix = np.array([[1, 2, 3], [4, 5, 6], [7, 8, 9]])\n",
    "matrix.shape"
   ]
  },
  {
   "cell_type": "code",
   "execution_count": 26,
   "id": "ac7bf74e-3f8b-46c5-9932-3f1c30a9417e",
   "metadata": {},
   "outputs": [
    {
     "data": {
      "text/plain": [
       "array([1, 5, 9])"
      ]
     },
     "execution_count": 26,
     "metadata": {},
     "output_type": "execute_result"
    }
   ],
   "source": [
    "from pylab import *\n",
    "matrix = array([[1, 2, 3], [4, 5, 6], [7, 8, 9]])\n",
    "diag(matrix)"
   ]
  },
  {
   "cell_type": "code",
   "execution_count": 29,
   "id": "9c3c6237-8e89-4f40-82ed-8446664c7ac0",
   "metadata": {},
   "outputs": [],
   "source": [
    "def get_l_trig_with_1_diag(matrix: np.array):\n",
    "    lower_triangle_matrix = tril(matrix)\n",
    "    diag_matrix = diag(diag(matrix))\n",
    "    lower_triangle_matrix_minus_diag = lower_triangle_matrix - diag_matrix\n",
    "    lower_triangle_matrix_with_1_diag = lower_triangle_matrix_minus_diag + eye(matrix.shape[0])\n",
    "    return lower_triangle_matrix_with_1_diag"
   ]
  },
  {
   "cell_type": "code",
   "execution_count": 30,
   "id": "a03605d7-89d8-4b86-8787-8a6e602f7c65",
   "metadata": {},
   "outputs": [
    {
     "data": {
      "text/plain": [
       "array([[1., 0., 0.],\n",
       "       [4., 1., 0.],\n",
       "       [7., 8., 1.]])"
      ]
     },
     "execution_count": 30,
     "metadata": {},
     "output_type": "execute_result"
    }
   ],
   "source": [
    "matrix = array([[1, 2, 3], [4, 5, 6], [7, 8, 9]])\n",
    "get_l_trig_with_1_diag(matrix)"
   ]
  },
  {
   "cell_type": "code",
   "execution_count": 31,
   "id": "0dd57e6a-eaee-4f9e-bfd3-0a2ad9a3b3ce",
   "metadata": {},
   "outputs": [
    {
     "data": {
      "text/plain": [
       "[1, 2, 3, 4]"
      ]
     },
     "execution_count": 31,
     "metadata": {},
     "output_type": "execute_result"
    }
   ],
   "source": [
    "l = [0, 1, 2, 3, 4]\n",
    "l[1:]"
   ]
  },
  {
   "cell_type": "code",
   "execution_count": null,
   "id": "0621966a-d97f-4cf9-9dfe-b833efbb02a2",
   "metadata": {},
   "outputs": [],
   "source": []
  },
  {
   "cell_type": "code",
   "execution_count": null,
   "id": "63502e07-1f21-418e-b0b1-2a1be65d4298",
   "metadata": {},
   "outputs": [],
   "source": [
    "l2 = l[1:]"
   ]
  },
  {
   "cell_type": "code",
   "execution_count": 34,
   "id": "bbdf2e4d-3134-471b-b8e7-299ff386d4b6",
   "metadata": {},
   "outputs": [
    {
     "name": "stdout",
     "output_type": "stream",
     "text": [
      "Original matrix: \n",
      " [[ 1  2  3  4]\n",
      " [ 5  6  7  8]\n",
      " [ 9 10 11 12]\n",
      " [13 14 15 16]]\n",
      "Modified Matrix:\n",
      "[[ 1  2  3  4]\n",
      " [ 5  6  7  8]\n",
      " [ 9 10 21 22]\n",
      " [13 14 23 24]]\n"
     ]
    }
   ],
   "source": [
    "import numpy as np\n",
    "\n",
    "# Original matrix\n",
    "matrix = np.array([[1, 2, 3, 4], [5, 6, 7, 8], [9, 10, 11, 12], [13, 14, 15, 16]])\n",
    "print(f\"Original matrix: \\n {matrix}\")\n",
    "# New submatrix to replace a part of the original matrix\n",
    "new_submatrix = np.array([[21, 22], [23, 24]])\n",
    "\n",
    "# Define the location in the original matrix where the new submatrix will be placed\n",
    "# Here, we're replacing the bottom-right 2x2 section\n",
    "matrix[2:, 2:] = new_submatrix\n",
    "\n",
    "print(\"Modified Matrix:\")\n",
    "print(matrix)\n"
   ]
  },
  {
   "cell_type": "code",
   "execution_count": 39,
   "id": "7e2d0cac-b5ed-472e-a978-80935dc0eeec",
   "metadata": {},
   "outputs": [
    {
     "name": "stdout",
     "output_type": "stream",
     "text": [
      "Original matrix: \n",
      " [[ 1  2  3  4]\n",
      " [ 5  6  7  8]\n",
      " [ 9 10 11 12]\n",
      " [13 14 15 16]]\n",
      "Submatrix:\n",
      "[[ 1  2  3  4]\n",
      " [ 5  6  7  8]\n",
      " [ 9 10 11 12]\n",
      " [13 14 15 16]]\n"
     ]
    }
   ],
   "source": [
    "import numpy as np\n",
    "\n",
    "# Example 4x4 matrix\n",
    "matrix = np.array([[1, 2, 3, 4], [5, 6, 7, 8], [9, 10, 11, 12], [13, 14, 15, 16]])\n",
    "print(f\"Original matrix: \\n {matrix}\")\n",
    "\n",
    "# Extract bottom-right 2x2 submatrix\n",
    "submatrix = matrix[0:, 0:]\n",
    "\n",
    "print(\"Submatrix:\")\n",
    "print(submatrix)"
   ]
  },
  {
   "cell_type": "code",
   "execution_count": null,
   "id": "f897fb84-1496-4a6c-8057-ee5c3c275b04",
   "metadata": {},
   "outputs": [],
   "source": []
  }
 ],
 "metadata": {
  "kernelspec": {
   "display_name": "Python lee_ml_class",
   "language": "python",
   "name": "lee_ml_class_kernel"
  },
  "language_info": {
   "codemirror_mode": {
    "name": "ipython",
    "version": 3
   },
   "file_extension": ".py",
   "mimetype": "text/x-python",
   "name": "python",
   "nbconvert_exporter": "python",
   "pygments_lexer": "ipython3",
   "version": "3.10.13"
  }
 },
 "nbformat": 4,
 "nbformat_minor": 5
}

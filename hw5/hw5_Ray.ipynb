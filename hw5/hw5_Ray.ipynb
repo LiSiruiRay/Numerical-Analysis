{
 "cells": [
  {
   "cell_type": "markdown",
   "id": "9419bf45-5572-49a0-8c8c-2ad0d6a24567",
   "metadata": {},
   "source": [
    "# 1. $PLUx = b$"
   ]
  },
  {
   "cell_type": "code",
   "execution_count": 24,
   "id": "408bb72b-48fb-4689-b475-09ee797f2eba",
   "metadata": {},
   "outputs": [],
   "source": [
    "# import numpy as np\n",
    "from pylab import *\n",
    "\n",
    "def swap(row1: int, row2: int, matrix: np.array) -> np.array:\n",
    "    matrix[[row1, row2]] = matrix[[row2, row1]]\n",
    "    return matrix"
   ]
  },
  {
   "cell_type": "code",
   "execution_count": 25,
   "id": "9cfd7487-53ab-44d5-aa66-c75bf9e5665e",
   "metadata": {},
   "outputs": [
    {
     "name": "stdout",
     "output_type": "stream",
     "text": [
      "Original Matrix:\n",
      "[[1 2 3]\n",
      " [4 5 6]\n",
      " [7 8 9]]\n",
      "\n",
      "Matrix After Swapping Rows:\n",
      "[[4 5 6]\n",
      " [1 2 3]\n",
      " [7 8 9]]\n"
     ]
    }
   ],
   "source": [
    "# test swap\n",
    "matrix = np.array([[1, 2, 3], [4, 5, 6], [7, 8, 9]])\n",
    "print(\"Original Matrix:\")\n",
    "print(matrix)\n",
    "matrix = swap(0, 1, matrix)\n",
    "print(\"\\nMatrix After Swapping Rows:\")\n",
    "print(matrix)"
   ]
  },
  {
   "cell_type": "code",
   "execution_count": null,
   "id": "2826c4a6-a9b3-4293-a4fd-7d78545f58b8",
   "metadata": {},
   "outputs": [],
   "source": [
    "# def get_element_index_in_range()"
   ]
  },
  {
   "cell_type": "code",
   "execution_count": 216,
   "id": "97b70896-b868-4ce2-a28c-8ad13e35a3fc",
   "metadata": {},
   "outputs": [],
   "source": [
    "# def get_abs_max(column_index: int, matrix: np.array) -> (float, int):\n",
    "#     column = matrix[:, column_index]\n",
    "#     abs_column = np.abs(column)\n",
    "#     partial_column = abs_column[column_index: ]\n",
    "#     print(f\"partial_column: {partial_column}\")\n",
    "#     abs_max_value = np.max(partial_column)\n",
    "#     abs_max_index = np.argmax(abs_column)\n",
    "#     print(f\"abs_max_value: {abs_max_value}, abs_max_index: {abs_max_index}\")\n",
    "#     return (abs_max_value, abs_max_index)\n",
    "\n",
    "def get_abs_max(column_index: int, matrix: np.array) -> (float, int):\n",
    "    column = matrix[:, column_index]\n",
    "    n = matrix.shape[0]\n",
    "    abs_column = np.abs(column)\n",
    "    abs_max_value = 0\n",
    "    abs_max_index = column_index\n",
    "    for i in range(column_index, n):\n",
    "        if abs_column[i] > abs_max_value:\n",
    "            abs_max_value = abs_column[i]\n",
    "            abs_max_index = i\n",
    "    return (abs_max_value, abs_max_index)"
   ]
  },
  {
   "cell_type": "code",
   "execution_count": 217,
   "id": "9d444f39-fdb5-4449-978e-19f486006d9c",
   "metadata": {},
   "outputs": [],
   "source": [
    "def get_l_trig_with_1_diag(matrix: np.array):\n",
    "    lower_triangle_matrix = tril(matrix)\n",
    "    diag_matrix = diag(diag(matrix))\n",
    "    lower_triangle_matrix_minus_diag = lower_triangle_matrix - diag_matrix\n",
    "    lower_triangle_matrix_with_1_diag = lower_triangle_matrix_minus_diag + eye(matrix.shape[0])\n",
    "    return lower_triangle_matrix_with_1_diag"
   ]
  },
  {
   "cell_type": "code",
   "execution_count": 218,
   "id": "bbeba51d-4b55-4a76-b5a4-a53ed24443da",
   "metadata": {},
   "outputs": [],
   "source": [
    "# def partial_pivot(p: array, matrix: array, column_index: int):\n",
    "#     print(f\"beginning， colum index: \\n{column_index} \\n ----------- \\n p: \\n {p}, --- \\n matrix: \\n {matrix}\")\n",
    "#     matrix_original = copy.deepcopy(matrix)\n",
    "#     matrix = copy.deepcopy(matrix[column_index:, column_index:])\n",
    "#     print(f\"sub matrix:\\n {matrix}\")\n",
    "#     column_index_backup = column_index\n",
    "#     column_index = 0\n",
    "#     (abs_max_value, abs_max_index) = get_abs_max(column_index = column_index, matrix = matrix)\n",
    "#     n = matrix.shape[0] - 1 # matrix must be n by n\n",
    "#     # print(abs_max_index)\n",
    "#     p = swap(row1 = column_index, row2 = abs_max_index, matrix = p)\n",
    "#     matrix = swap(row1 = column_index, row2 = abs_max_index, matrix = matrix)\n",
    "    \n",
    "#     matrix_original[column_index_backup:, column_index_backup:] = matrix\n",
    "#     print(f\"p: \\n {p}, --- \\n matrix: \\n {matrix}\")\n",
    "#     return (p, matrix)\n",
    "\n",
    "def partial_pivot(p: array, matrix: array, column_index: int):\n",
    "    (abs_max_value, abs_max_index) = get_abs_max(column_index = column_index, matrix = matrix)\n",
    "    n = matrix.shape[0] - 1 # matrix must be n by n\n",
    "    p = swap(row1 = column_index, row2 = abs_max_index, matrix = p)\n",
    "    matrix = swap(row1 = column_index, row2 = abs_max_index, matrix = matrix)\n",
    "    return (p, matrix)"
   ]
  },
  {
   "cell_type": "code",
   "execution_count": 219,
   "id": "d27aaf4e-e534-4a33-b77a-65f40913426a",
   "metadata": {},
   "outputs": [
    {
     "data": {
      "text/plain": [
       "(array([[0., 0., 1.],\n",
       "        [0., 1., 0.],\n",
       "        [1., 0., 0.]]),\n",
       " array([[7, 8, 9],\n",
       "        [4, 5, 6],\n",
       "        [1, 2, 3]]))"
      ]
     },
     "execution_count": 219,
     "metadata": {},
     "output_type": "execute_result"
    }
   ],
   "source": [
    "matrix = np.array([[1, 2, 3], [4, 5, 6], [7, 8, 9]])\n",
    "p = eye(3)\n",
    "partial_pivot(p = p, matrix = matrix, column_index = 0)"
   ]
  },
  {
   "cell_type": "code",
   "execution_count": 220,
   "id": "82ee20e7-1561-4981-96b7-549278fc363e",
   "metadata": {},
   "outputs": [],
   "source": [
    "import copy\n",
    "def single_raw_LU_decomposite(matrix: array, column_index: int):\n",
    "    if matrix.dtype != 'float':\n",
    "        matrix = matrix.astype(float)\n",
    "    \n",
    "    head_ele = matrix[column_index][column_index]\n",
    "    head_raw = matrix[column_index]\n",
    "    if head_ele == 0:\n",
    "        return\n",
    "    \n",
    "    n = matrix.shape[0]\n",
    "    for i in range(column_index + 1, n):\n",
    "        curr_row = matrix[i]\n",
    "        row_head = curr_row[column_index]\n",
    "        if row_head == 0:\n",
    "            continue\n",
    "        change_factor = - row_head / head_ele\n",
    "        # print(f\"change_factor: {change_factor}\")\n",
    "        # row_to_change = copy.deepcopy(curr_row[column_index:])\n",
    "        row_to_change = copy.deepcopy(curr_row)\n",
    "        row_to_change = change_factor * head_raw + row_to_change\n",
    "        \n",
    "        chagned_row = curr_row[:column_index]\n",
    "        chagned_row = np.append(chagned_row, -change_factor)\n",
    "        # chagned_row.append(change_factor)\n",
    "        \n",
    "        # chagned_row += row_to_change[column_index + 1:]\n",
    "        chagned_row = np.append(chagned_row, row_to_change[column_index + 1:])\n",
    "        matrix[i] = chagned_row\n",
    "    \n",
    "    return matrix"
   ]
  },
  {
   "cell_type": "code",
   "execution_count": 221,
   "id": "fa54e80d-75e7-4298-8b8b-7e978cb1d11b",
   "metadata": {},
   "outputs": [
    {
     "data": {
      "text/plain": [
       "array([[ 1. ,  2. ,  3. ],\n",
       "       [ 4. ,  5. ,  6. ],\n",
       "       [ 7. ,  1.6, -0.6]])"
      ]
     },
     "execution_count": 221,
     "metadata": {},
     "output_type": "execute_result"
    }
   ],
   "source": [
    "matrix = np.array([[1, 2, 3], [4, 5, 6], [7, 8, 9]])\n",
    "single_raw_LU_decomposite(matrix=matrix, column_index = 1)"
   ]
  },
  {
   "cell_type": "code",
   "execution_count": 224,
   "id": "9022b7dc-301e-4a26-a17d-91834461d52d",
   "metadata": {},
   "outputs": [],
   "source": [
    "def perform_PLU_decomposite(A: array) -> (array, array, array, array): #p, L, U, A\n",
    "    n = A.shape[0]\n",
    "    p = eye(n)\n",
    "    matrix = copy.deepcopy(A)\n",
    "    for i in range(n):\n",
    "        p, matrix = partial_pivot(p = p, matrix = matrix, column_index = i)\n",
    "        matrix = single_raw_LU_decomposite(matrix = matrix, column_index = i)\n",
    "    \n",
    "    return (p, matrix, get_l_trig_with_1_diag(matrix), np.triu(matrix))"
   ]
  },
  {
   "cell_type": "code",
   "execution_count": 225,
   "id": "b50ea852-0fa0-4dc1-9a3a-607d80e353db",
   "metadata": {},
   "outputs": [
    {
     "data": {
      "text/plain": [
       "(array([[ 2,  1,  5],\n",
       "        [ 4,  4, -4],\n",
       "        [ 1,  3,  1]]),\n",
       " (array([[0., 1., 0.],\n",
       "         [0., 0., 1.],\n",
       "         [1., 0., 0.]]),\n",
       "  array([[ 4.  ,  4.  , -4.  ],\n",
       "         [ 0.25,  2.  ,  2.  ],\n",
       "         [ 0.5 , -0.5 ,  8.  ]]),\n",
       "  array([[ 1.  ,  0.  ,  0.  ],\n",
       "         [ 0.25,  1.  ,  0.  ],\n",
       "         [ 0.5 , -0.5 ,  1.  ]]),\n",
       "  array([[ 4.,  4., -4.],\n",
       "         [ 0.,  2.,  2.],\n",
       "         [ 0.,  0.,  8.]])))"
      ]
     },
     "execution_count": 225,
     "metadata": {},
     "output_type": "execute_result"
    }
   ],
   "source": [
    "matrix = np.array([[2, 1, 5], [4, 4, -4], [1, 3, 1]])\n",
    "matrix, perform_PLU_decomposite(A = matrix)"
   ]
  },
  {
   "cell_type": "code",
   "execution_count": null,
   "id": "abc65850-5b61-4236-b775-11fe00dd098a",
   "metadata": {},
   "outputs": [],
   "source": []
  },
  {
   "cell_type": "code",
   "execution_count": null,
   "id": "104b9272-6e03-4a66-a9f1-278777eeab4c",
   "metadata": {},
   "outputs": [],
   "source": []
  },
  {
   "cell_type": "code",
   "execution_count": null,
   "id": "23466af9-6d2e-48de-be9e-36f0b854821a",
   "metadata": {},
   "outputs": [],
   "source": []
  }
 ],
 "metadata": {
  "kernelspec": {
   "display_name": "Python lee_ml_class",
   "language": "python",
   "name": "lee_ml_class_kernel"
  },
  "language_info": {
   "codemirror_mode": {
    "name": "ipython",
    "version": 3
   },
   "file_extension": ".py",
   "mimetype": "text/x-python",
   "name": "python",
   "nbconvert_exporter": "python",
   "pygments_lexer": "ipython3",
   "version": "3.10.13"
  }
 },
 "nbformat": 4,
 "nbformat_minor": 5
}

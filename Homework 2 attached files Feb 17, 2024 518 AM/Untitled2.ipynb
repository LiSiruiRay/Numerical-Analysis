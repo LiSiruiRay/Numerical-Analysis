{
 "cells": [
  {
   "cell_type": "markdown",
   "id": "bcd2cfe8-5ca5-4cee-a14f-7b8cfd9e401e",
   "metadata": {},
   "source": [
    "$\n",
    "f=\\sum ^{k}_{n=1}k\\cdot a_{k}\n",
    "$"
   ]
  },
  {
   "cell_type": "code",
   "execution_count": null,
   "id": "86a5c0f3-f9fd-49f9-9afa-7904c938e730",
   "metadata": {},
   "outputs": [],
   "source": []
  }
 ],
 "metadata": {
  "kernelspec": {
   "display_name": "Python lee_ml_class",
   "language": "python",
   "name": "lee_ml_class_kernel"
  },
  "language_info": {
   "codemirror_mode": {
    "name": "ipython",
    "version": 3
   },
   "file_extension": ".py",
   "mimetype": "text/x-python",
   "name": "python",
   "nbconvert_exporter": "python",
   "pygments_lexer": "ipython3",
   "version": "3.10.13"
  }
 },
 "nbformat": 4,
 "nbformat_minor": 5
}
